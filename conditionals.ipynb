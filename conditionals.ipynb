{
 "cells": [
  {
   "cell_type": "code",
   "execution_count": null,
   "metadata": {},
   "outputs": [],
   "source": [
    "import sys\n",
    "!{sys.executable} -m pip install openai\n"
   ]
  },
  {
   "cell_type": "code",
   "execution_count": null,
   "metadata": {},
   "outputs": [],
   "source": [
    "import openai\n",
    "import os\n",
    "import json"
   ]
  },
  {
   "cell_type": "code",
   "execution_count": null,
   "metadata": {},
   "outputs": [],
   "source": [
    "openai.api_key = os.getenv(\"OPENAI_API_KEY\")"
   ]
  },
  {
   "cell_type": "code",
   "execution_count": null,
   "metadata": {},
   "outputs": [],
   "source": [
    "def chat(input):\n",
    "    completion = openai.ChatCompletion.create(\n",
    "        model = \"gpt-3.5-turbo\",\n",
    "        temperature = 0.5,\n",
    "        messages = [\n",
    "            {\"role\": \"user\", \"content\": input},\n",
    "        ]\n",
    "    )\n",
    "    return completion.choices[0].message.content\n",
    "\n",
    "def instruct(input, temperature = 0.5, stop = None):\n",
    "    completion = openai.Completion.create(\n",
    "        model = \"gpt-3.5-turbo-instruct\",\n",
    "        temperature = temperature,\n",
    "        prompt = input,\n",
    "        max_tokens = 1000,\n",
    "        stop = stop\n",
    "    )\n",
    "    return completion.choices[0].text "
   ]
  },
  {
   "cell_type": "code",
   "execution_count": null,
   "metadata": {},
   "outputs": [],
   "source": [
    "def fuzzy_if(input, condition):\n",
    "    prompt = f\"\"\"You are an advanced conditional evaluator. Your job is to take an string and a conditional statement as input, and return a bool if the input string satisfies the conditional. The inputs may be in forms of words, sentences, numbers, or even paragraphs, and the conditionals may be querying the content or the form of the input. The conditionals may also be in the form of statements (\"is a complete sentence\", for example) or questions (\"is it about environmentalism?\", for example), and you must return true or false in any of these scenarios.\n",
    "    Let's try it out. Remember to only return true or false.\n",
    "    Input: {input}\n",
    "    Conditional: {condition}\n",
    "    Output:\"\"\"\n",
    "    output = instruct(prompt, temperature = 0, stop = \"\\n\").strip().lower()\n",
    "    if output == \"true\":\n",
    "        return True\n",
    "    elif output == \"false\":\n",
    "        return False\n",
    "    else:\n",
    "        raise ValueError(\"Unexpected output: \" + output)\n",
    "    \n",
    "def fuzzy_filter(input, condition):\n",
    "    prompt = f\"\"\"You are an advanced semantic computer. Your job is to take a string and a semantic find condition as input, and return a $-separated list of substrings that satisfy the condition. The inputs may be in the form of sentences, lists, paragraphs, or even entire documents, and the find conditions may be related to form or content of the input, such as asking for all characters in a story, all dates in a sentence, all descriptions of a person, or all sentences that are questions. Remeber to return a $-separated list of substrings that satisfy the condition.\n",
    "    Let's try it out.\n",
    "    Input: {input}\n",
    "    Conditional: {condition}\n",
    "    Output:\"\"\"\n",
    "    output = instruct(prompt, temperature = 0).strip().split(\"$\")\n",
    "    return output\n",
    "\n",
    "def fuzzy_foreach(input, condition, action):\n",
    "    split_input = fuzzy_filter(input, condition)\n",
    "    results = []\n",
    "    for element in split_input:\n",
    "        prompt = f\"Perform the following action on the input. Follow the action directly and do not include any extra commentary.\\nInput: {element}\\nAction: {action}\\nOutput:\"\n",
    "        result = instruct(prompt, temperature = 0).strip()\n",
    "        results.append(result)\n",
    "    return results\n",
    "    \n"
   ]
  },
  {
   "cell_type": "code",
   "execution_count": null,
   "metadata": {},
   "outputs": [],
   "source": [
    "test_suite = {\n",
    "    \"dog\": [[\"is fuzzy\", True],[\"is a mammal\", True], [\"is a reptile\", False], [\"is a dog\", True], [\"is a cat\", False], [\"is a pet\", True], [\"is a plant\", False], [\"is a living thing\", True], [\"is a non-living thing\", False], [\"is a human\", False], [\"is a dog or a cat\", True], [\"is a dog and a cat\", False], [\"references time in some way\",False],[\"has oppsoable thumbs\",False],[\"can talk\",False]],\n",
    "    \"four score and seven years ago\": [[\"is this a beginning of a famous quote\",True],[\"from a famous book\",False], [\"is this a complete sentence?\",False],[\"is colorful\",False],[\"is a number\",False],[\"is a date\",True],[\"is a year or a date or a number\",True], [\"references time in some way\",True],[\"about a character\",False],[\"has oppsoable thumbs\",False],[\"can talk\",False]],\n",
    "    \"the quick brown fox jumps over the lazy dog\": [[\"is this a beginning of a famous quote\",False], [\"is this a complete sentence?\",True],[\"is colorful\",False],[\"is a number\",False],[\"is a date\",False],[\"is a year or a date or a number\",False], [\"references time in some way\",False],[\"about a character\",True],[\"has oppsoable thumbs\",False],[\"can talk\",False]],\n",
    "    \"the king was pregnant\" : [[\"is this a beginning of a famous quote\",False], [\"from a famous book\",True], [\"is this a complete sentence?\",True],[\"is colorful\",False],[\"is a number\",False],[\"is a date\",False],[\"is a year or a date or a number\",False], [\"references time in some way\",False],[\"about a character\",True],[\"has oppsoable thumbs\",False],[\"can talk\",False]],\n",
    "    \"long black flowy dress, with a slit up the side\": [[\"is this a beginning of a famous quote\",False], [\"from a famous book\",False], [\"is this a complete sentence?\",False],[\"is colorful\",True],[\"is a number\",False],[\"is a date\",False],[\"is a year or a date or a number\",False], [\"references time in some way\",False],[\"about a character\",False],[\"has oppsoable thumbs\",False],[\"can talk\",False]]\n",
    "}"
   ]
  },
  {
   "cell_type": "code",
   "execution_count": null,
   "metadata": {},
   "outputs": [],
   "source": [
    "def test_fuzzy_if():\n",
    "    pass_count = 0\n",
    "    fail_count = 0\n",
    "\n",
    "    for input, conditions in test_suite.items():\n",
    "        for condition, expected_output in conditions:\n",
    "            result = fuzzy_if(input, condition)\n",
    "            if result == expected_output:\n",
    "                pass_count += 1\n",
    "                print(f\"✅ PASS: Input: {input}, Condition: {condition}, Output: {result}\")\n",
    "            else:\n",
    "                fail_count += 1\n",
    "                print(f\"😡 FAIL: Input: {input}, Condition: {condition}, Expected: {expected_output}, Got: {result}\")\n",
    "\n",
    "    print(f\"\\nTotal tests: {pass_count + fail_count}, Pass %: {pass_count/(pass_count+fail_count)} (Passed: {pass_count}, Failed: {fail_count})\")\n",
    "\n",
    "test_fuzzy_if()"
   ]
  },
  {
   "cell_type": "code",
   "execution_count": null,
   "metadata": {},
   "outputs": [],
   "source": [
    "# fuzzy_if(input, testing_condition)\n",
    "print(fuzzy_if(\"a man a plan a canal panama\", \"was once president\"))"
   ]
  },
  {
   "cell_type": "code",
   "execution_count": null,
   "metadata": {},
   "outputs": [],
   "source": [
    "print(fuzzy_if(\"recent polling showing biden down in michigan\", \"is good news for america\"))"
   ]
  },
  {
   "cell_type": "code",
   "execution_count": null,
   "metadata": {},
   "outputs": [],
   "source": [
    "print(fuzzy_if(\"louie armstrong\", \"went to the moon\"))\n",
    "print(fuzzy_if(\"neil armstrong\", \"went to the moon\"))\n",
    "print(fuzzy_if(\"lance armstrong\", \"went to the moon\"))"
   ]
  },
  {
   "cell_type": "code",
   "execution_count": null,
   "metadata": {},
   "outputs": [],
   "source": [
    "print(fuzzy_if(\"a man a plan a canal panama\", \"is a palindrome\"))"
   ]
  },
  {
   "cell_type": "code",
   "execution_count": null,
   "metadata": {},
   "outputs": [],
   "source": [
    "# fuzzy_filter(input, filter_criteria)\n",
    "print(fuzzy_filter(\"a man a plan a canal panama\", \"nouns\"))"
   ]
  },
  {
   "cell_type": "code",
   "execution_count": null,
   "metadata": {},
   "outputs": [],
   "source": [
    "fuzzy_filter(someHackerNewsComment, \"bad opinions\")[0] == someHackerNewsComment\n",
    "#resolves to true for all values of someHackerNewsComment"
   ]
  },
  {
   "cell_type": "code",
   "execution_count": null,
   "metadata": {},
   "outputs": [],
   "source": [
    "print(fuzzy_filter(\"a man a plan a canal panama\", \"groups of 2 words\"))"
   ]
  },
  {
   "cell_type": "code",
   "execution_count": null,
   "metadata": {},
   "outputs": [],
   "source": [
    "# fuzzy_foreach(input, split_condition, action)\n",
    "print(fuzzy_foreach(\"a man a plan a canal panama\", \"nouns\", \"write it backwards\"))"
   ]
  },
  {
   "cell_type": "code",
   "execution_count": null,
   "metadata": {},
   "outputs": [],
   "source": [
    "# fuzzy_foreach(somgLongListOfUserFeedback, \"things that relate to feature N\", \"give the piece of user feedback a priority of 1, 2, or 3 given our criteria of X, Y, and Z, then repeat back the feedback\")\n"
   ]
  }
 ],
 "metadata": {
  "kernelspec": {
   "display_name": "Python 3",
   "language": "python",
   "name": "python3"
  },
  "language_info": {
   "codemirror_mode": {
    "name": "ipython",
    "version": 3
   },
   "file_extension": ".py",
   "mimetype": "text/x-python",
   "name": "python",
   "nbconvert_exporter": "python",
   "pygments_lexer": "ipython3",
   "version": "3.9.6"
  },
  "orig_nbformat": 4
 },
 "nbformat": 4,
 "nbformat_minor": 2
}
